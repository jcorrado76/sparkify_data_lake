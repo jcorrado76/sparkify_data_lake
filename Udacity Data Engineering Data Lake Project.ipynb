{
 "cells": [
  {
   "cell_type": "markdown",
   "id": "limited-basis",
   "metadata": {},
   "source": [
    "Here, we define the input S3 bucket to download the data from, as well as the output path to HDFS.\n",
    "\n",
    "We are outputting to HDFS here so that we can use s3 dist cp, since uploading directly into S3 from the spark.write api was taking a very long time, as it was copying and renaming thousands of objects."
   ]
  },
  {
   "cell_type": "code",
   "execution_count": 1,
   "id": "rubber-sustainability",
   "metadata": {},
   "outputs": [
    {
     "data": {
      "application/vnd.jupyter.widget-view+json": {
       "model_id": "24e3bb65802b455bbf741724bbd1eed2",
       "version_major": 2,
       "version_minor": 0
      },
      "text/plain": [
       "VBox()"
      ]
     },
     "metadata": {},
     "output_type": "display_data"
    },
    {
     "name": "stdout",
     "output_type": "stream",
     "text": [
      "Starting Spark application\n"
     ]
    },
    {
     "data": {
      "text/html": [
       "<table>\n",
       "<tr><th>ID</th><th>YARN Application ID</th><th>Kind</th><th>State</th><th>Spark UI</th><th>Driver log</th><th>Current session?</th></tr><tr><td>0</td><td>application_1615401410759_0001</td><td>pyspark</td><td>idle</td><td><a target=\"_blank\" href=\"http://ip-172-31-40-191.us-west-2.compute.internal:20888/proxy/application_1615401410759_0001/\" >Link</a></td><td><a target=\"_blank\" href=\"http://ip-172-31-36-44.us-west-2.compute.internal:8042/node/containerlogs/container_1615401410759_0001_01_000001/livy\" >Link</a></td><td>✔</td></tr></table>"
      ],
      "text/plain": [
       "<IPython.core.display.HTML object>"
      ]
     },
     "metadata": {},
     "output_type": "display_data"
    },
    {
     "data": {
      "application/vnd.jupyter.widget-view+json": {
       "model_id": "",
       "version_major": 2,
       "version_minor": 0
      },
      "text/plain": [
       "FloatProgress(value=0.0, bar_style='info', description='Progress:', layout=Layout(height='25px', width='50%'),…"
      ]
     },
     "metadata": {},
     "output_type": "display_data"
    },
    {
     "name": "stdout",
     "output_type": "stream",
     "text": [
      "SparkSession available as 'spark'.\n"
     ]
    },
    {
     "data": {
      "application/vnd.jupyter.widget-view+json": {
       "model_id": "",
       "version_major": 2,
       "version_minor": 0
      },
      "text/plain": [
       "FloatProgress(value=0.0, bar_style='info', description='Progress:', layout=Layout(height='25px', width='50%'),…"
      ]
     },
     "metadata": {},
     "output_type": "display_data"
    }
   ],
   "source": [
    "input_data = \"s3a://udacity-dend/\"\n",
    "output_path = \"hdfs:///user/sparkify_data/\""
   ]
  },
  {
   "cell_type": "code",
   "execution_count": 2,
   "id": "alternative-iraqi",
   "metadata": {},
   "outputs": [
    {
     "data": {
      "application/vnd.jupyter.widget-view+json": {
       "model_id": "fdd8658d7a554309a4db20a923871d6b",
       "version_major": 2,
       "version_minor": 0
      },
      "text/plain": [
       "VBox()"
      ]
     },
     "metadata": {},
     "output_type": "display_data"
    },
    {
     "data": {
      "application/vnd.jupyter.widget-view+json": {
       "model_id": "",
       "version_major": 2,
       "version_minor": 0
      },
      "text/plain": [
       "FloatProgress(value=0.0, bar_style='info', description='Progress:', layout=Layout(height='25px', width='50%'),…"
      ]
     },
     "metadata": {},
     "output_type": "display_data"
    }
   ],
   "source": [
    "import os"
   ]
  },
  {
   "cell_type": "markdown",
   "id": "pressed-brick",
   "metadata": {},
   "source": [
    "Here we define the specific paths to download the song and songplay log data"
   ]
  },
  {
   "cell_type": "code",
   "execution_count": 3,
   "id": "charitable-terminal",
   "metadata": {},
   "outputs": [
    {
     "data": {
      "application/vnd.jupyter.widget-view+json": {
       "model_id": "4f39f2016c4b4c4e9e905eb8cd991348",
       "version_major": 2,
       "version_minor": 0
      },
      "text/plain": [
       "VBox()"
      ]
     },
     "metadata": {},
     "output_type": "display_data"
    },
    {
     "data": {
      "application/vnd.jupyter.widget-view+json": {
       "model_id": "",
       "version_major": 2,
       "version_minor": 0
      },
      "text/plain": [
       "FloatProgress(value=0.0, bar_style='info', description='Progress:', layout=Layout(height='25px', width='50%'),…"
      ]
     },
     "metadata": {},
     "output_type": "display_data"
    }
   ],
   "source": [
    "path_to_song_data = os.path.join(\n",
    "    input_data,\n",
    "    \"song_data/*/*/*/*\"\n",
    ")\n",
    "path_to_log_data = os.path.join(\n",
    "    input_data,\n",
    "    \"log_data/2018/11/*\"\n",
    ")"
   ]
  },
  {
   "cell_type": "markdown",
   "id": "phantom-knock",
   "metadata": {},
   "source": [
    "Here, we define the paths under the HDFS to save the output tables in"
   ]
  },
  {
   "cell_type": "code",
   "execution_count": 4,
   "id": "noble-rainbow",
   "metadata": {},
   "outputs": [
    {
     "data": {
      "application/vnd.jupyter.widget-view+json": {
       "model_id": "79ae070f908548349a544b207f635408",
       "version_major": 2,
       "version_minor": 0
      },
      "text/plain": [
       "VBox()"
      ]
     },
     "metadata": {},
     "output_type": "display_data"
    },
    {
     "data": {
      "application/vnd.jupyter.widget-view+json": {
       "model_id": "",
       "version_major": 2,
       "version_minor": 0
      },
      "text/plain": [
       "FloatProgress(value=0.0, bar_style='info', description='Progress:', layout=Layout(height='25px', width='50%'),…"
      ]
     },
     "metadata": {},
     "output_type": "display_data"
    }
   ],
   "source": [
    "path_to_output_song_table = os.path.join(\n",
    "    output_path,\n",
    "    \"songs\"\n",
    ")\n",
    "path_to_output_artist_table = os.path.join(\n",
    "    output_path,\n",
    "    \"artists\"\n",
    ")\n",
    "path_to_output_user_table = os.path.join(\n",
    "    output_path,\n",
    "    \"users\"\n",
    ")\n",
    "path_to_output_time_table = os.path.join(\n",
    "    output_path,\n",
    "    \"time\"\n",
    ")\n",
    "path_to_output_songplay_table = os.path.join(\n",
    "    output_path,\n",
    "    \"songplays\"\n",
    ")"
   ]
  },
  {
   "cell_type": "code",
   "execution_count": 5,
   "id": "meaning-investment",
   "metadata": {},
   "outputs": [
    {
     "data": {
      "application/vnd.jupyter.widget-view+json": {
       "model_id": "740feed426f649658c07026ee61206f4",
       "version_major": 2,
       "version_minor": 0
      },
      "text/plain": [
       "VBox()"
      ]
     },
     "metadata": {},
     "output_type": "display_data"
    },
    {
     "data": {
      "application/vnd.jupyter.widget-view+json": {
       "model_id": "",
       "version_major": 2,
       "version_minor": 0
      },
      "text/plain": [
       "FloatProgress(value=0.0, bar_style='info', description='Progress:', layout=Layout(height='25px', width='50%'),…"
      ]
     },
     "metadata": {},
     "output_type": "display_data"
    }
   ],
   "source": [
    "song_data = spark.read.json(path_to_song_data)"
   ]
  },
  {
   "cell_type": "code",
   "execution_count": 10,
   "id": "other-delivery",
   "metadata": {},
   "outputs": [
    {
     "data": {
      "application/vnd.jupyter.widget-view+json": {
       "model_id": "71eaacb342b2461595693647bcac44d1",
       "version_major": 2,
       "version_minor": 0
      },
      "text/plain": [
       "VBox()"
      ]
     },
     "metadata": {},
     "output_type": "display_data"
    },
    {
     "data": {
      "application/vnd.jupyter.widget-view+json": {
       "model_id": "",
       "version_major": 2,
       "version_minor": 0
      },
      "text/plain": [
       "FloatProgress(value=0.0, bar_style='info', description='Progress:', layout=Layout(height='25px', width='50%'),…"
      ]
     },
     "metadata": {},
     "output_type": "display_data"
    }
   ],
   "source": [
    "log_data = spark.read.json(path_to_log_data)"
   ]
  },
  {
   "cell_type": "markdown",
   "id": "intelligent-medicare",
   "metadata": {},
   "source": [
    "# Song Table\n",
    "***"
   ]
  },
  {
   "cell_type": "code",
   "execution_count": 47,
   "id": "developed-compilation",
   "metadata": {},
   "outputs": [
    {
     "data": {
      "application/vnd.jupyter.widget-view+json": {
       "model_id": "c75aa84cb5f34443bfe766483ff8fd63",
       "version_major": 2,
       "version_minor": 0
      },
      "text/plain": [
       "VBox()"
      ]
     },
     "metadata": {},
     "output_type": "display_data"
    },
    {
     "data": {
      "application/vnd.jupyter.widget-view+json": {
       "model_id": "",
       "version_major": 2,
       "version_minor": 0
      },
      "text/plain": [
       "FloatProgress(value=0.0, bar_style='info', description='Progress:', layout=Layout(height='25px', width='50%'),…"
      ]
     },
     "metadata": {},
     "output_type": "display_data"
    },
    {
     "name": "stdout",
     "output_type": "stream",
     "text": [
      "Number of unique songs found: 14896\n",
      "[Row(song_id='SOAACFC12A8C140567', title='Supernatural Pt. II', artist_id='ARNHTE41187B99289A', year=0, duration=343.09179), Row(song_id='SOABVPU12AB018AA22', title='Conquer Me', artist_id='ARZZRK91187B9A5CA5', year=2009, duration=180.53179)]"
     ]
    }
   ],
   "source": [
    "songs_table = song_data.select(\n",
    "    \"song_id\",\n",
    "    \"title\",\n",
    "    \"artist_id\",\n",
    "    \"year\",\n",
    "    \"duration\"\n",
    ").dropDuplicates(subset=['song_id'])\n",
    "print(\"Number of unique songs found: {}\".format(songs_table.count()))\n",
    "songs_table.take(2)"
   ]
  },
  {
   "cell_type": "code",
   "execution_count": 67,
   "id": "headed-imaging",
   "metadata": {},
   "outputs": [
    {
     "data": {
      "application/vnd.jupyter.widget-view+json": {
       "model_id": "22abc06c31b343c286d919fd292d26e6",
       "version_major": 2,
       "version_minor": 0
      },
      "text/plain": [
       "VBox()"
      ]
     },
     "metadata": {},
     "output_type": "display_data"
    },
    {
     "data": {
      "application/vnd.jupyter.widget-view+json": {
       "model_id": "",
       "version_major": 2,
       "version_minor": 0
      },
      "text/plain": [
       "FloatProgress(value=0.0, bar_style='info', description='Progress:', layout=Layout(height='25px', width='50%'),…"
      ]
     },
     "metadata": {},
     "output_type": "display_data"
    }
   ],
   "source": [
    "songs_table.write.mode(\"overwrite\").parquet(\n",
    "    path_to_output_song_table,\n",
    "    partitionBy=[\"year\", \"artist_id\"]\n",
    ")"
   ]
  },
  {
   "cell_type": "markdown",
   "id": "removable-speed",
   "metadata": {},
   "source": [
    "# Artist Table\n",
    "***"
   ]
  },
  {
   "cell_type": "code",
   "execution_count": 68,
   "id": "fabulous-alfred",
   "metadata": {},
   "outputs": [
    {
     "data": {
      "application/vnd.jupyter.widget-view+json": {
       "model_id": "03ab02af81784622b7b9950511a0fd9f",
       "version_major": 2,
       "version_minor": 0
      },
      "text/plain": [
       "VBox()"
      ]
     },
     "metadata": {},
     "output_type": "display_data"
    },
    {
     "data": {
      "application/vnd.jupyter.widget-view+json": {
       "model_id": "",
       "version_major": 2,
       "version_minor": 0
      },
      "text/plain": [
       "FloatProgress(value=0.0, bar_style='info', description='Progress:', layout=Layout(height='25px', width='50%'),…"
      ]
     },
     "metadata": {},
     "output_type": "display_data"
    },
    {
     "name": "stdout",
     "output_type": "stream",
     "text": [
      "Number of unique artists found: 9553\n",
      "[Row(artist_id='AR04BF811A348F050D', artist_name='Teenagers In Tokyo', artist_location='', artist_latitude=None, artist_longitude=None), Row(artist_id='AR04KY61187FB44E3A', artist_name='Fidel Nadal', artist_location='', artist_latitude=None, artist_longitude=None)]"
     ]
    }
   ],
   "source": [
    "artists_table = song_data.select(\n",
    "    \"artist_id\",\n",
    "    \"artist_name\",\n",
    "    \"artist_location\",\n",
    "    \"artist_latitude\",\n",
    "    \"artist_longitude\"\n",
    ").dropDuplicates(subset=['artist_id'])\n",
    "print(\"Number of unique artists found: {}\".format(artists_table.count()))\n",
    "artists_table.take(2)"
   ]
  },
  {
   "cell_type": "code",
   "execution_count": 69,
   "id": "congressional-matter",
   "metadata": {},
   "outputs": [
    {
     "data": {
      "application/vnd.jupyter.widget-view+json": {
       "model_id": "8ec070895d0c48d4b114cae8dc8451eb",
       "version_major": 2,
       "version_minor": 0
      },
      "text/plain": [
       "VBox()"
      ]
     },
     "metadata": {},
     "output_type": "display_data"
    },
    {
     "data": {
      "application/vnd.jupyter.widget-view+json": {
       "model_id": "",
       "version_major": 2,
       "version_minor": 0
      },
      "text/plain": [
       "FloatProgress(value=0.0, bar_style='info', description='Progress:', layout=Layout(height='25px', width='50%'),…"
      ]
     },
     "metadata": {},
     "output_type": "display_data"
    }
   ],
   "source": [
    "artists_table.write.mode(\"overwrite\").parquet(\n",
    "    path_to_output_artist_table\n",
    ")"
   ]
  },
  {
   "cell_type": "markdown",
   "id": "stylish-dispatch",
   "metadata": {},
   "source": [
    "# Users Table\n",
    "***\n",
    "Make sure to filter our DataFrame for entries having `page='NextSong'`"
   ]
  },
  {
   "cell_type": "code",
   "execution_count": 70,
   "id": "tested-treasury",
   "metadata": {},
   "outputs": [
    {
     "data": {
      "application/vnd.jupyter.widget-view+json": {
       "model_id": "7b417b972077488a899bbcdf855e9175",
       "version_major": 2,
       "version_minor": 0
      },
      "text/plain": [
       "VBox()"
      ]
     },
     "metadata": {},
     "output_type": "display_data"
    },
    {
     "data": {
      "application/vnd.jupyter.widget-view+json": {
       "model_id": "",
       "version_major": 2,
       "version_minor": 0
      },
      "text/plain": [
       "FloatProgress(value=0.0, bar_style='info', description='Progress:', layout=Layout(height='25px', width='50%'),…"
      ]
     },
     "metadata": {},
     "output_type": "display_data"
    },
    {
     "name": "stdout",
     "output_type": "stream",
     "text": [
      "Found 6820 log file rows having page='NextSong'"
     ]
    }
   ],
   "source": [
    "nextSong_log_df = log_data.filter(\"page='NextSong'\")\n",
    "print(\"Found {} log file rows having page='NextSong'\".format(nextSong_log_df.count()))"
   ]
  },
  {
   "cell_type": "code",
   "execution_count": 71,
   "id": "seasonal-privacy",
   "metadata": {},
   "outputs": [
    {
     "data": {
      "application/vnd.jupyter.widget-view+json": {
       "model_id": "43cc0b2969de4306abb8cae88c13fe47",
       "version_major": 2,
       "version_minor": 0
      },
      "text/plain": [
       "VBox()"
      ]
     },
     "metadata": {},
     "output_type": "display_data"
    },
    {
     "data": {
      "application/vnd.jupyter.widget-view+json": {
       "model_id": "",
       "version_major": 2,
       "version_minor": 0
      },
      "text/plain": [
       "FloatProgress(value=0.0, bar_style='info', description='Progress:', layout=Layout(height='25px', width='50%'),…"
      ]
     },
     "metadata": {},
     "output_type": "display_data"
    },
    {
     "name": "stdout",
     "output_type": "stream",
     "text": [
      "Number of unique users found: 96\n",
      "[Row(userId='18', firstName='Jacob', lastName='Rogers', gender='M', level='free'), Row(userId='27', firstName='Carlos', lastName='Carter', gender='M', level='free')]"
     ]
    }
   ],
   "source": [
    "users_table = nextSong_log_df.select(\n",
    "    \"userId\",\n",
    "    \"firstName\",\n",
    "    \"lastName\",\n",
    "    \"gender\",\n",
    "    \"level\"\n",
    ").dropDuplicates(subset=['userId'])\n",
    "print(\"Number of unique users found: {}\".format(users_table.count()))\n",
    "users_table.take(2)"
   ]
  },
  {
   "cell_type": "code",
   "execution_count": 72,
   "id": "negative-following",
   "metadata": {},
   "outputs": [
    {
     "data": {
      "application/vnd.jupyter.widget-view+json": {
       "model_id": "c9ac8670898147dd9bbe1b07f9b34515",
       "version_major": 2,
       "version_minor": 0
      },
      "text/plain": [
       "VBox()"
      ]
     },
     "metadata": {},
     "output_type": "display_data"
    },
    {
     "data": {
      "application/vnd.jupyter.widget-view+json": {
       "model_id": "",
       "version_major": 2,
       "version_minor": 0
      },
      "text/plain": [
       "FloatProgress(value=0.0, bar_style='info', description='Progress:', layout=Layout(height='25px', width='50%'),…"
      ]
     },
     "metadata": {},
     "output_type": "display_data"
    }
   ],
   "source": [
    "users_table.write.mode(\"overwrite\").parquet(path_to_output_user_table)"
   ]
  },
  {
   "cell_type": "markdown",
   "id": "parliamentary-pioneer",
   "metadata": {},
   "source": [
    "# Time Table\n",
    "***\n",
    "Now we'll import the functions we need to do the time preprocessing"
   ]
  },
  {
   "cell_type": "code",
   "execution_count": 73,
   "id": "opposite-composition",
   "metadata": {},
   "outputs": [
    {
     "data": {
      "application/vnd.jupyter.widget-view+json": {
       "model_id": "6bb4882d51974df481c7588bbeda52d3",
       "version_major": 2,
       "version_minor": 0
      },
      "text/plain": [
       "VBox()"
      ]
     },
     "metadata": {},
     "output_type": "display_data"
    },
    {
     "data": {
      "application/vnd.jupyter.widget-view+json": {
       "model_id": "",
       "version_major": 2,
       "version_minor": 0
      },
      "text/plain": [
       "FloatProgress(value=0.0, bar_style='info', description='Progress:', layout=Layout(height='25px', width='50%'),…"
      ]
     },
     "metadata": {},
     "output_type": "display_data"
    }
   ],
   "source": [
    "from pyspark.sql.functions import col, year, month, dayofmonth, hour, weekofyear, dayofweek, from_unixtime, to_timestamp"
   ]
  },
  {
   "cell_type": "code",
   "execution_count": 74,
   "id": "reverse-possible",
   "metadata": {},
   "outputs": [
    {
     "data": {
      "application/vnd.jupyter.widget-view+json": {
       "model_id": "7de3795ba78c4e38969a8d020c7a3ba6",
       "version_major": 2,
       "version_minor": 0
      },
      "text/plain": [
       "VBox()"
      ]
     },
     "metadata": {},
     "output_type": "display_data"
    },
    {
     "data": {
      "application/vnd.jupyter.widget-view+json": {
       "model_id": "",
       "version_major": 2,
       "version_minor": 0
      },
      "text/plain": [
       "FloatProgress(value=0.0, bar_style='info', description='Progress:', layout=Layout(height='25px', width='50%'),…"
      ]
     },
     "metadata": {},
     "output_type": "display_data"
    },
    {
     "name": "stdout",
     "output_type": "stream",
     "text": [
      "Found 6820 rows in the time table\n",
      "root\n",
      " |-- start_time: timestamp (nullable = true)\n",
      " |-- hour: integer (nullable = true)\n",
      " |-- day: integer (nullable = true)\n",
      " |-- week: integer (nullable = true)\n",
      " |-- month: integer (nullable = true)\n",
      " |-- year: integer (nullable = true)\n",
      " |-- weekday: integer (nullable = true)"
     ]
    }
   ],
   "source": [
    "nextSong_log_df = nextSong_log_df.withColumn(\"start_time\", to_timestamp(from_unixtime(col(\"ts\")/1000.0)))\\\n",
    "                                .withColumn(\"hour\", hour(col(\"start_time\")))\\\n",
    "                                .withColumn(\"day\", dayofmonth(col(\"start_time\")))\\\n",
    "                                .withColumn(\"week\", weekofyear(col(\"start_time\")))\\\n",
    "                                .withColumn(\"month\", month(col(\"start_time\")))\\\n",
    "                                .withColumn(\"year\", year(col(\"start_time\")))\\\n",
    "                                .withColumn(\"weekday\", dayofweek(col(\"start_time\")))\n",
    "time_table = nextSong_log_df.select(\n",
    "                                \"start_time\",\n",
    "                                \"hour\",\n",
    "                                \"day\",\n",
    "                                \"week\",\n",
    "                                \"month\",\n",
    "                                \"year\",\n",
    "                                \"weekday\"\n",
    "                            )\n",
    "print(\"Found {} rows in the time table\".format(time_table.count()))\n",
    "time_table.printSchema()"
   ]
  },
  {
   "cell_type": "code",
   "execution_count": 75,
   "id": "gorgeous-merit",
   "metadata": {},
   "outputs": [
    {
     "data": {
      "application/vnd.jupyter.widget-view+json": {
       "model_id": "994faa2e5b27481a8fde32f88c04c84d",
       "version_major": 2,
       "version_minor": 0
      },
      "text/plain": [
       "VBox()"
      ]
     },
     "metadata": {},
     "output_type": "display_data"
    },
    {
     "data": {
      "application/vnd.jupyter.widget-view+json": {
       "model_id": "",
       "version_major": 2,
       "version_minor": 0
      },
      "text/plain": [
       "FloatProgress(value=0.0, bar_style='info', description='Progress:', layout=Layout(height='25px', width='50%'),…"
      ]
     },
     "metadata": {},
     "output_type": "display_data"
    },
    {
     "name": "stdout",
     "output_type": "stream",
     "text": [
      "[Row(start_time=datetime.datetime(2018, 11, 15, 0, 30, 26), hour=0, day=15, week=46, month=11, year=2018, weekday=5), Row(start_time=datetime.datetime(2018, 11, 15, 0, 41, 21), hour=0, day=15, week=46, month=11, year=2018, weekday=5)]"
     ]
    }
   ],
   "source": [
    "time_table.take(2)"
   ]
  },
  {
   "cell_type": "code",
   "execution_count": 76,
   "id": "understood-penetration",
   "metadata": {},
   "outputs": [
    {
     "data": {
      "application/vnd.jupyter.widget-view+json": {
       "model_id": "e1e8b0a50c4048d3aeba41ca6cdb51ad",
       "version_major": 2,
       "version_minor": 0
      },
      "text/plain": [
       "VBox()"
      ]
     },
     "metadata": {},
     "output_type": "display_data"
    },
    {
     "data": {
      "application/vnd.jupyter.widget-view+json": {
       "model_id": "",
       "version_major": 2,
       "version_minor": 0
      },
      "text/plain": [
       "FloatProgress(value=0.0, bar_style='info', description='Progress:', layout=Layout(height='25px', width='50%'),…"
      ]
     },
     "metadata": {},
     "output_type": "display_data"
    }
   ],
   "source": [
    "time_table.write.mode(\"overwrite\").parquet(\n",
    "    path_to_output_time_table,\n",
    "    partitionBy=[\"year\", \"month\"]\n",
    ")"
   ]
  },
  {
   "cell_type": "markdown",
   "id": "occasional-parallel",
   "metadata": {},
   "source": [
    "When I wrote the time data to HDFS, I noticed there was only a single year and a single month. This line is just to verify that that is indeed the case."
   ]
  },
  {
   "cell_type": "code",
   "execution_count": 77,
   "id": "understood-concentrate",
   "metadata": {},
   "outputs": [
    {
     "data": {
      "application/vnd.jupyter.widget-view+json": {
       "model_id": "07137057a8244df58f9d57ca63e693cf",
       "version_major": 2,
       "version_minor": 0
      },
      "text/plain": [
       "VBox()"
      ]
     },
     "metadata": {},
     "output_type": "display_data"
    },
    {
     "data": {
      "application/vnd.jupyter.widget-view+json": {
       "model_id": "",
       "version_major": 2,
       "version_minor": 0
      },
      "text/plain": [
       "FloatProgress(value=0.0, bar_style='info', description='Progress:', layout=Layout(height='25px', width='50%'),…"
      ]
     },
     "metadata": {},
     "output_type": "display_data"
    },
    {
     "name": "stdout",
     "output_type": "stream",
     "text": [
      "[Row(year=2018, month=11)]"
     ]
    }
   ],
   "source": [
    "time_table.select(\"year\",\"month\").distinct().take(2)"
   ]
  },
  {
   "cell_type": "markdown",
   "id": "conscious-luxury",
   "metadata": {},
   "source": [
    "For the songplays data, we will need to merge our song data, as well as our log data together to get the complete rows.\n",
    "\n",
    "We need the rows:\n",
    "* songplay_id - nextSong_log_df\n",
    "* sessionId   - nextSong_log_df\n",
    "* location    - nextSong_log_df\n",
    "* user_agent  - nextSong_log_df\n",
    "* user_id     - nextSong_log_df\n",
    "* level       - nextSong_log_df\n",
    "* start_time  - nextSong_log_df\n",
    "* song_id     - songs_table\n",
    "* artist_id   - artists_table\n",
    "\n",
    "What you're gonna have to do is join the `artists_table` and `songs_table` first, on `artist_id`-`artist_id`.\n",
    "\n",
    "Then, you can join this composite table into the `nextSong_log_df` on `artist_name`-`artist` and `title`-`song`"
   ]
  },
  {
   "cell_type": "code",
   "execution_count": 78,
   "id": "prospective-matrix",
   "metadata": {},
   "outputs": [
    {
     "data": {
      "application/vnd.jupyter.widget-view+json": {
       "model_id": "6737f3e4a6e749e3aedfe56eeca4bc39",
       "version_major": 2,
       "version_minor": 0
      },
      "text/plain": [
       "VBox()"
      ]
     },
     "metadata": {},
     "output_type": "display_data"
    },
    {
     "data": {
      "application/vnd.jupyter.widget-view+json": {
       "model_id": "",
       "version_major": 2,
       "version_minor": 0
      },
      "text/plain": [
       "FloatProgress(value=0.0, bar_style='info', description='Progress:', layout=Layout(height='25px', width='50%'),…"
      ]
     },
     "metadata": {},
     "output_type": "display_data"
    },
    {
     "name": "stdout",
     "output_type": "stream",
     "text": [
      "root\n",
      " |-- artist_id: string (nullable = true)\n",
      " |-- artist_name: string (nullable = true)\n",
      " |-- artist_location: string (nullable = true)\n",
      " |-- artist_latitude: double (nullable = true)\n",
      " |-- artist_longitude: double (nullable = true)"
     ]
    }
   ],
   "source": [
    "artists_table.printSchema()"
   ]
  },
  {
   "cell_type": "code",
   "execution_count": 79,
   "id": "packed-trailer",
   "metadata": {},
   "outputs": [
    {
     "data": {
      "application/vnd.jupyter.widget-view+json": {
       "model_id": "9b3c3fffe85c438ebae61e65291f0087",
       "version_major": 2,
       "version_minor": 0
      },
      "text/plain": [
       "VBox()"
      ]
     },
     "metadata": {},
     "output_type": "display_data"
    },
    {
     "data": {
      "application/vnd.jupyter.widget-view+json": {
       "model_id": "",
       "version_major": 2,
       "version_minor": 0
      },
      "text/plain": [
       "FloatProgress(value=0.0, bar_style='info', description='Progress:', layout=Layout(height='25px', width='50%'),…"
      ]
     },
     "metadata": {},
     "output_type": "display_data"
    },
    {
     "name": "stdout",
     "output_type": "stream",
     "text": [
      "root\n",
      " |-- song_id: string (nullable = true)\n",
      " |-- title: string (nullable = true)\n",
      " |-- artist_id: string (nullable = true)\n",
      " |-- year: long (nullable = true)\n",
      " |-- duration: double (nullable = true)"
     ]
    }
   ],
   "source": [
    "songs_table.printSchema()"
   ]
  },
  {
   "cell_type": "code",
   "execution_count": 80,
   "id": "juvenile-profession",
   "metadata": {},
   "outputs": [
    {
     "data": {
      "application/vnd.jupyter.widget-view+json": {
       "model_id": "6e31202585964f69a65924b32740dbf8",
       "version_major": 2,
       "version_minor": 0
      },
      "text/plain": [
       "VBox()"
      ]
     },
     "metadata": {},
     "output_type": "display_data"
    },
    {
     "data": {
      "application/vnd.jupyter.widget-view+json": {
       "model_id": "",
       "version_major": 2,
       "version_minor": 0
      },
      "text/plain": [
       "FloatProgress(value=0.0, bar_style='info', description='Progress:', layout=Layout(height='25px', width='50%'),…"
      ]
     },
     "metadata": {},
     "output_type": "display_data"
    },
    {
     "name": "stdout",
     "output_type": "stream",
     "text": [
      "root\n",
      " |-- artist: string (nullable = true)\n",
      " |-- auth: string (nullable = true)\n",
      " |-- firstName: string (nullable = true)\n",
      " |-- gender: string (nullable = true)\n",
      " |-- itemInSession: long (nullable = true)\n",
      " |-- lastName: string (nullable = true)\n",
      " |-- length: double (nullable = true)\n",
      " |-- level: string (nullable = true)\n",
      " |-- location: string (nullable = true)\n",
      " |-- method: string (nullable = true)\n",
      " |-- page: string (nullable = true)\n",
      " |-- registration: double (nullable = true)\n",
      " |-- sessionId: long (nullable = true)\n",
      " |-- song: string (nullable = true)\n",
      " |-- status: long (nullable = true)\n",
      " |-- ts: long (nullable = true)\n",
      " |-- userAgent: string (nullable = true)\n",
      " |-- userId: string (nullable = true)\n",
      " |-- start_time: timestamp (nullable = true)\n",
      " |-- hour: integer (nullable = true)\n",
      " |-- day: integer (nullable = true)\n",
      " |-- week: integer (nullable = true)\n",
      " |-- month: integer (nullable = true)\n",
      " |-- year: integer (nullable = true)\n",
      " |-- weekday: integer (nullable = true)"
     ]
    }
   ],
   "source": [
    "nextSong_log_df.printSchema()"
   ]
  },
  {
   "cell_type": "code",
   "execution_count": 81,
   "id": "subject-category",
   "metadata": {},
   "outputs": [
    {
     "data": {
      "application/vnd.jupyter.widget-view+json": {
       "model_id": "6769b241ade84c0dbcd173c8a791b416",
       "version_major": 2,
       "version_minor": 0
      },
      "text/plain": [
       "VBox()"
      ]
     },
     "metadata": {},
     "output_type": "display_data"
    },
    {
     "data": {
      "application/vnd.jupyter.widget-view+json": {
       "model_id": "",
       "version_major": 2,
       "version_minor": 0
      },
      "text/plain": [
       "FloatProgress(value=0.0, bar_style='info', description='Progress:', layout=Layout(height='25px', width='50%'),…"
      ]
     },
     "metadata": {},
     "output_type": "display_data"
    }
   ],
   "source": [
    "from pyspark.sql.functions import countDistinct, monotonically_increasing_id"
   ]
  },
  {
   "cell_type": "code",
   "execution_count": 82,
   "id": "acceptable-testing",
   "metadata": {},
   "outputs": [
    {
     "data": {
      "application/vnd.jupyter.widget-view+json": {
       "model_id": "4939a8d721324df98e6baf5afeb96e17",
       "version_major": 2,
       "version_minor": 0
      },
      "text/plain": [
       "VBox()"
      ]
     },
     "metadata": {},
     "output_type": "display_data"
    },
    {
     "data": {
      "application/vnd.jupyter.widget-view+json": {
       "model_id": "",
       "version_major": 2,
       "version_minor": 0
      },
      "text/plain": [
       "FloatProgress(value=0.0, bar_style='info', description='Progress:', layout=Layout(height='25px', width='50%'),…"
      ]
     },
     "metadata": {},
     "output_type": "display_data"
    },
    {
     "name": "stdout",
     "output_type": "stream",
     "text": [
      "Found 6820 rows in log data\n",
      "Found 6820 distinct sessions and session items in log data"
     ]
    }
   ],
   "source": [
    "print(\"Found {} rows in log data\".format(nextSong_log_df.count()))\n",
    "print(\"Found {} distinct sessions and session items in log data\"\\\n",
    "      .format(nextSong_log_df.select(\"itemInSession\",\"sessionId\").distinct().count()))"
   ]
  },
  {
   "cell_type": "markdown",
   "id": "manufactured-romania",
   "metadata": {},
   "source": [
    "This tells me that the itemInSession and sessionId combination form a primary key for this table\n",
    "\n",
    "First, we'll join all the data we need, then select the final columns we want to have, and then we can assign a new primary key using the `monotonically_increasing_id` function."
   ]
  },
  {
   "cell_type": "code",
   "execution_count": 83,
   "id": "western-monkey",
   "metadata": {},
   "outputs": [
    {
     "data": {
      "application/vnd.jupyter.widget-view+json": {
       "model_id": "c0ac3942c6934af9aefec8baa5e13564",
       "version_major": 2,
       "version_minor": 0
      },
      "text/plain": [
       "VBox()"
      ]
     },
     "metadata": {},
     "output_type": "display_data"
    },
    {
     "data": {
      "application/vnd.jupyter.widget-view+json": {
       "model_id": "",
       "version_major": 2,
       "version_minor": 0
      },
      "text/plain": [
       "FloatProgress(value=0.0, bar_style='info', description='Progress:', layout=Layout(height='25px', width='50%'),…"
      ]
     },
     "metadata": {},
     "output_type": "display_data"
    },
    {
     "name": "stdout",
     "output_type": "stream",
     "text": [
      "root\n",
      " |-- artist_id: string (nullable = true)\n",
      " |-- artist_name: string (nullable = true)\n",
      " |-- artist_location: string (nullable = true)\n",
      " |-- artist_latitude: double (nullable = true)\n",
      " |-- artist_longitude: double (nullable = true)\n",
      " |-- song_id: string (nullable = true)\n",
      " |-- title: string (nullable = true)\n",
      " |-- year: long (nullable = true)\n",
      " |-- duration: double (nullable = true)"
     ]
    }
   ],
   "source": [
    "artists_and_songs_table.printSchema()"
   ]
  },
  {
   "cell_type": "code",
   "execution_count": 87,
   "id": "atmospheric-canal",
   "metadata": {
    "scrolled": true
   },
   "outputs": [
    {
     "data": {
      "application/vnd.jupyter.widget-view+json": {
       "model_id": "9bfde23bca3a47f48dafc579fd573fd7",
       "version_major": 2,
       "version_minor": 0
      },
      "text/plain": [
       "VBox()"
      ]
     },
     "metadata": {},
     "output_type": "display_data"
    },
    {
     "data": {
      "application/vnd.jupyter.widget-view+json": {
       "model_id": "",
       "version_major": 2,
       "version_minor": 0
      },
      "text/plain": [
       "FloatProgress(value=0.0, bar_style='info', description='Progress:', layout=Layout(height='25px', width='50%'),…"
      ]
     },
     "metadata": {},
     "output_type": "display_data"
    },
    {
     "name": "stdout",
     "output_type": "stream",
     "text": [
      "9553 rows in artists table\n",
      "14896 rows in songs table\n",
      "Retained 14896 rows after joining artists and songs together\n",
      "log_data_with_artist_and_song_data retained 6820 rows\n",
      "root\n",
      " |-- artist: string (nullable = true)\n",
      " |-- auth: string (nullable = true)\n",
      " |-- firstName: string (nullable = true)\n",
      " |-- gender: string (nullable = true)\n",
      " |-- itemInSession: long (nullable = true)\n",
      " |-- lastName: string (nullable = true)\n",
      " |-- length: double (nullable = true)\n",
      " |-- level: string (nullable = true)\n",
      " |-- location: string (nullable = true)\n",
      " |-- method: string (nullable = true)\n",
      " |-- page: string (nullable = true)\n",
      " |-- registration: double (nullable = true)\n",
      " |-- sessionId: long (nullable = true)\n",
      " |-- song: string (nullable = true)\n",
      " |-- status: long (nullable = true)\n",
      " |-- ts: long (nullable = true)\n",
      " |-- userAgent: string (nullable = true)\n",
      " |-- userId: string (nullable = true)\n",
      " |-- start_time: timestamp (nullable = true)\n",
      " |-- hour: integer (nullable = true)\n",
      " |-- day: integer (nullable = true)\n",
      " |-- week: integer (nullable = true)\n",
      " |-- month: integer (nullable = true)\n",
      " |-- year: integer (nullable = true)\n",
      " |-- weekday: integer (nullable = true)\n",
      " |-- artist_id: string (nullable = true)\n",
      " |-- artist_name: string (nullable = true)\n",
      " |-- artist_location: string (nullable = true)\n",
      " |-- artist_latitude: double (nullable = true)\n",
      " |-- artist_longitude: double (nullable = true)\n",
      " |-- song_id: string (nullable = true)\n",
      " |-- title: string (nullable = true)\n",
      " |-- song_release_year: long (nullable = true)\n",
      " |-- duration: double (nullable = true)"
     ]
    }
   ],
   "source": [
    "artists_and_songs_table = artists_table.join(\n",
    "    songs_table.withColumnRenamed(\"year\", \"song_release_year\"),\n",
    "    on=\"artist_id\",\n",
    "    how=\"right\"\n",
    ")\n",
    "print(\"{} rows in artists table\".format(artists_table.count()))\n",
    "print(\"{} rows in songs table\".format(songs_table.count()))\n",
    "print(\"Retained {} rows after joining artists and songs together\".format(artists_and_songs_table.count()))\n",
    "log_data_with_artist_and_song_data = nextSong_log_df.join(\n",
    "    artists_and_songs_table,\n",
    "    (nextSong_log_df.artist==artists_and_songs_table.artist_name) & (nextSong_log_df.song==artists_and_songs_table.title),\n",
    "    how=\"left\")\n",
    "print(\"log_data_with_artist_and_song_data retained {} rows\".format(log_data_with_artist_and_song_data.count()))\n",
    "log_data_with_artist_and_song_data.printSchema()"
   ]
  },
  {
   "cell_type": "code",
   "execution_count": 88,
   "id": "stuck-stack",
   "metadata": {},
   "outputs": [
    {
     "data": {
      "application/vnd.jupyter.widget-view+json": {
       "model_id": "8abc8b137909451c82c215db05dd4771",
       "version_major": 2,
       "version_minor": 0
      },
      "text/plain": [
       "VBox()"
      ]
     },
     "metadata": {},
     "output_type": "display_data"
    },
    {
     "data": {
      "application/vnd.jupyter.widget-view+json": {
       "model_id": "",
       "version_major": 2,
       "version_minor": 0
      },
      "text/plain": [
       "FloatProgress(value=0.0, bar_style='info', description='Progress:', layout=Layout(height='25px', width='50%'),…"
      ]
     },
     "metadata": {},
     "output_type": "display_data"
    },
    {
     "name": "stdout",
     "output_type": "stream",
     "text": [
      "6820\n",
      "root\n",
      " |-- start_time: timestamp (nullable = true)\n",
      " |-- userId: string (nullable = true)\n",
      " |-- level: string (nullable = true)\n",
      " |-- song_id: string (nullable = true)\n",
      " |-- artist_id: string (nullable = true)\n",
      " |-- sessionId: long (nullable = true)\n",
      " |-- location: string (nullable = true)\n",
      " |-- userAgent: string (nullable = true)\n",
      " |-- year: integer (nullable = true)\n",
      " |-- month: integer (nullable = true)\n",
      " |-- songplay_id: long (nullable = false)"
     ]
    }
   ],
   "source": [
    "songplays_table = log_data_with_artist_and_song_data.select(\n",
    "    \"start_time\", \n",
    "    \"userId\",\n",
    "    \"level\",\n",
    "    \"song_id\",\n",
    "    \"artist_id\",\n",
    "    \"sessionId\",\n",
    "    \"location\",\n",
    "    \"userAgent\",\n",
    "    \"year\",\n",
    "    \"month\"\n",
    ").withColumn(\"songplay_id\", monotonically_increasing_id())\n",
    "print(songplays_table.count())\n",
    "songplays_table.printSchema()"
   ]
  },
  {
   "cell_type": "code",
   "execution_count": 89,
   "id": "critical-honolulu",
   "metadata": {},
   "outputs": [
    {
     "data": {
      "application/vnd.jupyter.widget-view+json": {
       "model_id": "f46f5021c4974347bc262b00cfaa6f8f",
       "version_major": 2,
       "version_minor": 0
      },
      "text/plain": [
       "VBox()"
      ]
     },
     "metadata": {},
     "output_type": "display_data"
    },
    {
     "data": {
      "application/vnd.jupyter.widget-view+json": {
       "model_id": "",
       "version_major": 2,
       "version_minor": 0
      },
      "text/plain": [
       "FloatProgress(value=0.0, bar_style='info', description='Progress:', layout=Layout(height='25px', width='50%'),…"
      ]
     },
     "metadata": {},
     "output_type": "display_data"
    }
   ],
   "source": [
    "songplays_table.write.mode(\"overwrite\").parquet(\n",
    "    path_to_output_songplay_table,\n",
    "    partitionBy=[\"year\", \"month\"]\n",
    ")"
   ]
  },
  {
   "cell_type": "markdown",
   "id": "answering-effectiveness",
   "metadata": {},
   "source": [
    "Now that all the processing has been written, and the data is successfully written to the HDFS, we need to use `s3-dist-cp` to copy that data into the target S3 bucket.\n",
    "\n",
    "Here is the command to upload any of the created tables:  \n",
    "`s3-dist-cp --src [path_to_data_on_hdfs] --dest [s3_bucket_folder_location]`  \n",
    "\n",
    "So if the `path_to_data_on_hdfs` is `/user/sparkify_data/artists`, then the path to the S3 bucket could be something like `s3://udacity-data-engineer-data-lake-project/artists`\n",
    "\n",
    "The 5 commands to upload all the data were:\n",
    "1. `s3-dist-cp --src /user/sparkify_data/users --dest s3://udacity-data-engineer-data-lake-project/users`\n",
    "2. `s3-dist-cp --src /user/sparkify_data/time --dest s3://udacity-data-engineer-data-lake-project/time`\n",
    "3. `s3-dist-cp --src /user/sparkify_data/songplays --dest s3://udacity-data-engineer-data-lake-project/songplays`\n",
    "4. `s3-dist-cp --src /user/sparkify_data/artists --dest s3://udacity-data-engineer-data-lake-project/artists`\n",
    "5. `s3-dist-cp --src /user/sparkify_data/songs --dest s3://udacity-data-engineer-data-lake-project/songs`"
   ]
  }
 ],
 "metadata": {
  "kernelspec": {
   "display_name": "PySpark",
   "language": "",
   "name": "pysparkkernel"
  },
  "language_info": {
   "codemirror_mode": {
    "name": "python",
    "version": 3
   },
   "mimetype": "text/x-python",
   "name": "pyspark",
   "pygments_lexer": "python3"
  }
 },
 "nbformat": 4,
 "nbformat_minor": 5
}
